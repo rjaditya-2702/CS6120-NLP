{
 "cells": [
  {
   "cell_type": "code",
   "execution_count": 1,
   "metadata": {},
   "outputs": [
    {
     "name": "stderr",
     "output_type": "stream",
     "text": [
      "/opt/homebrew/anaconda3/envs/CS6120/lib/python3.10/site-packages/tqdm/auto.py:21: TqdmWarning: IProgress not found. Please update jupyter and ipywidgets. See https://ipywidgets.readthedocs.io/en/stable/user_install.html\n",
      "  from .autonotebook import tqdm as notebook_tqdm\n"
     ]
    }
   ],
   "source": [
    "import copy\n",
    "import torch\n",
    "import torch.nn as nn\n",
    "import numpy as np\n",
    "import pandas as pd\n",
    "import os\n",
    "\n",
    "from transformers import GPT2Tokenizer\n",
    "from transformers import GPT2ForSequenceClassification\n",
    "\n",
    "from sklearn.model_selection import train_test_split\n",
    "from sklearn import metrics\n",
    "from datasets import Dataset"
   ]
  },
  {
   "cell_type": "code",
   "execution_count": 2,
   "metadata": {},
   "outputs": [],
   "source": [
    "if torch.cuda.is_available():\n",
    "    device = torch.device('cude')\n",
    "elif torch.backends.mps.is_available():\n",
    "    device = torch.device('mps')\n",
    "else:\n",
    "    device = torch.device('cpu')"
   ]
  },
  {
   "cell_type": "code",
   "execution_count": 3,
   "metadata": {},
   "outputs": [],
   "source": [
    "from visualize_attention_heatmap import plot_head0_heatmap as plot_heatmap\n",
    "\n",
    "tokenizer = GPT2Tokenizer.from_pretrained(\"gpt2\")\n",
    "tokenizer.pad_token = tokenizer.eos_token\n",
    "\n",
    "## Adds the tokenizer to the model (Un comment these two only if ./model_with_tokeinzer folder doesn't have tokenizer_config.json)\n",
    "# tokenizer = GPT2Tokenizer.from_pretrained(\"gpt2\")\n",
    "# tokenizer.save_pretrained('model_with_tokenizer')\n",
    "\n",
    "main_model = GPT2ForSequenceClassification.from_pretrained(\"./model\")\n",
    "\n",
    "sm = nn.Softmax()\n",
    "\n",
    "mapping = {\n",
    "    0: \"sadness\",\n",
    "    1: \"joy\",\n",
    "    2: \"love\",\n",
    "    3: \"anger\",\n",
    "    4: \"fear\",\n",
    "    5: \"surprise\"\n",
    "}"
   ]
  },
  {
   "cell_type": "code",
   "execution_count": 4,
   "metadata": {},
   "outputs": [
    {
     "name": "stdout",
     "output_type": "stream",
     "text": [
      "transformer.wte.weight: torch.Size([50257, 768])\n",
      "transformer.wpe.weight: torch.Size([1024, 768])\n",
      "transformer.h.0.ln_1.weight: torch.Size([768])\n",
      "transformer.h.0.ln_1.bias: torch.Size([768])\n",
      "transformer.h.0.attn.c_attn.weight: torch.Size([768, 2304])\n",
      "transformer.h.0.attn.c_attn.bias: torch.Size([2304])\n",
      "transformer.h.0.attn.c_proj.weight: torch.Size([768, 768])\n",
      "transformer.h.0.attn.c_proj.bias: torch.Size([768])\n",
      "transformer.h.0.ln_2.weight: torch.Size([768])\n",
      "transformer.h.0.ln_2.bias: torch.Size([768])\n",
      "transformer.h.0.mlp.c_fc.weight: torch.Size([768, 3072])\n",
      "transformer.h.0.mlp.c_fc.bias: torch.Size([3072])\n",
      "transformer.h.0.mlp.c_proj.weight: torch.Size([3072, 768])\n",
      "transformer.h.0.mlp.c_proj.bias: torch.Size([768])\n",
      "transformer.h.1.ln_1.weight: torch.Size([768])\n",
      "transformer.h.1.ln_1.bias: torch.Size([768])\n",
      "transformer.h.1.attn.c_attn.weight: torch.Size([768, 2304])\n",
      "transformer.h.1.attn.c_attn.bias: torch.Size([2304])\n",
      "transformer.h.1.attn.c_proj.weight: torch.Size([768, 768])\n",
      "transformer.h.1.attn.c_proj.bias: torch.Size([768])\n",
      "transformer.h.1.ln_2.weight: torch.Size([768])\n",
      "transformer.h.1.ln_2.bias: torch.Size([768])\n",
      "transformer.h.1.mlp.c_fc.weight: torch.Size([768, 3072])\n",
      "transformer.h.1.mlp.c_fc.bias: torch.Size([3072])\n",
      "transformer.h.1.mlp.c_proj.weight: torch.Size([3072, 768])\n",
      "transformer.h.1.mlp.c_proj.bias: torch.Size([768])\n",
      "transformer.h.2.ln_1.weight: torch.Size([768])\n",
      "transformer.h.2.ln_1.bias: torch.Size([768])\n",
      "transformer.h.2.attn.c_attn.weight: torch.Size([768, 2304])\n",
      "transformer.h.2.attn.c_attn.bias: torch.Size([2304])\n",
      "transformer.h.2.attn.c_proj.weight: torch.Size([768, 768])\n",
      "transformer.h.2.attn.c_proj.bias: torch.Size([768])\n",
      "transformer.h.2.ln_2.weight: torch.Size([768])\n",
      "transformer.h.2.ln_2.bias: torch.Size([768])\n",
      "transformer.h.2.mlp.c_fc.weight: torch.Size([768, 3072])\n",
      "transformer.h.2.mlp.c_fc.bias: torch.Size([3072])\n",
      "transformer.h.2.mlp.c_proj.weight: torch.Size([3072, 768])\n",
      "transformer.h.2.mlp.c_proj.bias: torch.Size([768])\n",
      "transformer.h.3.ln_1.weight: torch.Size([768])\n",
      "transformer.h.3.ln_1.bias: torch.Size([768])\n",
      "transformer.h.3.attn.c_attn.weight: torch.Size([768, 2304])\n",
      "transformer.h.3.attn.c_attn.bias: torch.Size([2304])\n",
      "transformer.h.3.attn.c_proj.weight: torch.Size([768, 768])\n",
      "transformer.h.3.attn.c_proj.bias: torch.Size([768])\n",
      "transformer.h.3.ln_2.weight: torch.Size([768])\n",
      "transformer.h.3.ln_2.bias: torch.Size([768])\n",
      "transformer.h.3.mlp.c_fc.weight: torch.Size([768, 3072])\n",
      "transformer.h.3.mlp.c_fc.bias: torch.Size([3072])\n",
      "transformer.h.3.mlp.c_proj.weight: torch.Size([3072, 768])\n",
      "transformer.h.3.mlp.c_proj.bias: torch.Size([768])\n",
      "transformer.h.4.ln_1.weight: torch.Size([768])\n",
      "transformer.h.4.ln_1.bias: torch.Size([768])\n",
      "transformer.h.4.attn.c_attn.weight: torch.Size([768, 2304])\n",
      "transformer.h.4.attn.c_attn.bias: torch.Size([2304])\n",
      "transformer.h.4.attn.c_proj.weight: torch.Size([768, 768])\n",
      "transformer.h.4.attn.c_proj.bias: torch.Size([768])\n",
      "transformer.h.4.ln_2.weight: torch.Size([768])\n",
      "transformer.h.4.ln_2.bias: torch.Size([768])\n",
      "transformer.h.4.mlp.c_fc.weight: torch.Size([768, 3072])\n",
      "transformer.h.4.mlp.c_fc.bias: torch.Size([3072])\n",
      "transformer.h.4.mlp.c_proj.weight: torch.Size([3072, 768])\n",
      "transformer.h.4.mlp.c_proj.bias: torch.Size([768])\n",
      "transformer.h.5.ln_1.weight: torch.Size([768])\n",
      "transformer.h.5.ln_1.bias: torch.Size([768])\n",
      "transformer.h.5.attn.c_attn.weight: torch.Size([768, 2304])\n",
      "transformer.h.5.attn.c_attn.bias: torch.Size([2304])\n",
      "transformer.h.5.attn.c_proj.weight: torch.Size([768, 768])\n",
      "transformer.h.5.attn.c_proj.bias: torch.Size([768])\n",
      "transformer.h.5.ln_2.weight: torch.Size([768])\n",
      "transformer.h.5.ln_2.bias: torch.Size([768])\n",
      "transformer.h.5.mlp.c_fc.weight: torch.Size([768, 3072])\n",
      "transformer.h.5.mlp.c_fc.bias: torch.Size([3072])\n",
      "transformer.h.5.mlp.c_proj.weight: torch.Size([3072, 768])\n",
      "transformer.h.5.mlp.c_proj.bias: torch.Size([768])\n",
      "transformer.h.6.ln_1.weight: torch.Size([768])\n",
      "transformer.h.6.ln_1.bias: torch.Size([768])\n",
      "transformer.h.6.attn.c_attn.weight: torch.Size([768, 2304])\n",
      "transformer.h.6.attn.c_attn.bias: torch.Size([2304])\n",
      "transformer.h.6.attn.c_proj.weight: torch.Size([768, 768])\n",
      "transformer.h.6.attn.c_proj.bias: torch.Size([768])\n",
      "transformer.h.6.ln_2.weight: torch.Size([768])\n",
      "transformer.h.6.ln_2.bias: torch.Size([768])\n",
      "transformer.h.6.mlp.c_fc.weight: torch.Size([768, 3072])\n",
      "transformer.h.6.mlp.c_fc.bias: torch.Size([3072])\n",
      "transformer.h.6.mlp.c_proj.weight: torch.Size([3072, 768])\n",
      "transformer.h.6.mlp.c_proj.bias: torch.Size([768])\n",
      "transformer.h.7.ln_1.weight: torch.Size([768])\n",
      "transformer.h.7.ln_1.bias: torch.Size([768])\n",
      "transformer.h.7.attn.c_attn.weight: torch.Size([768, 2304])\n",
      "transformer.h.7.attn.c_attn.bias: torch.Size([2304])\n",
      "transformer.h.7.attn.c_proj.weight: torch.Size([768, 768])\n",
      "transformer.h.7.attn.c_proj.bias: torch.Size([768])\n",
      "transformer.h.7.ln_2.weight: torch.Size([768])\n",
      "transformer.h.7.ln_2.bias: torch.Size([768])\n",
      "transformer.h.7.mlp.c_fc.weight: torch.Size([768, 3072])\n",
      "transformer.h.7.mlp.c_fc.bias: torch.Size([3072])\n",
      "transformer.h.7.mlp.c_proj.weight: torch.Size([3072, 768])\n",
      "transformer.h.7.mlp.c_proj.bias: torch.Size([768])\n",
      "transformer.h.8.ln_1.weight: torch.Size([768])\n",
      "transformer.h.8.ln_1.bias: torch.Size([768])\n",
      "transformer.h.8.attn.c_attn.weight: torch.Size([768, 2304])\n",
      "transformer.h.8.attn.c_attn.bias: torch.Size([2304])\n",
      "transformer.h.8.attn.c_proj.weight: torch.Size([768, 768])\n",
      "transformer.h.8.attn.c_proj.bias: torch.Size([768])\n",
      "transformer.h.8.ln_2.weight: torch.Size([768])\n",
      "transformer.h.8.ln_2.bias: torch.Size([768])\n",
      "transformer.h.8.mlp.c_fc.weight: torch.Size([768, 3072])\n",
      "transformer.h.8.mlp.c_fc.bias: torch.Size([3072])\n",
      "transformer.h.8.mlp.c_proj.weight: torch.Size([3072, 768])\n",
      "transformer.h.8.mlp.c_proj.bias: torch.Size([768])\n",
      "transformer.h.9.ln_1.weight: torch.Size([768])\n",
      "transformer.h.9.ln_1.bias: torch.Size([768])\n",
      "transformer.h.9.attn.c_attn.weight: torch.Size([768, 2304])\n",
      "transformer.h.9.attn.c_attn.bias: torch.Size([2304])\n",
      "transformer.h.9.attn.c_proj.weight: torch.Size([768, 768])\n",
      "transformer.h.9.attn.c_proj.bias: torch.Size([768])\n",
      "transformer.h.9.ln_2.weight: torch.Size([768])\n",
      "transformer.h.9.ln_2.bias: torch.Size([768])\n",
      "transformer.h.9.mlp.c_fc.weight: torch.Size([768, 3072])\n",
      "transformer.h.9.mlp.c_fc.bias: torch.Size([3072])\n",
      "transformer.h.9.mlp.c_proj.weight: torch.Size([3072, 768])\n",
      "transformer.h.9.mlp.c_proj.bias: torch.Size([768])\n",
      "transformer.h.10.ln_1.weight: torch.Size([768])\n",
      "transformer.h.10.ln_1.bias: torch.Size([768])\n",
      "transformer.h.10.attn.c_attn.weight: torch.Size([768, 2304])\n",
      "transformer.h.10.attn.c_attn.bias: torch.Size([2304])\n",
      "transformer.h.10.attn.c_proj.weight: torch.Size([768, 768])\n",
      "transformer.h.10.attn.c_proj.bias: torch.Size([768])\n",
      "transformer.h.10.ln_2.weight: torch.Size([768])\n",
      "transformer.h.10.ln_2.bias: torch.Size([768])\n",
      "transformer.h.10.mlp.c_fc.weight: torch.Size([768, 3072])\n",
      "transformer.h.10.mlp.c_fc.bias: torch.Size([3072])\n",
      "transformer.h.10.mlp.c_proj.weight: torch.Size([3072, 768])\n",
      "transformer.h.10.mlp.c_proj.bias: torch.Size([768])\n",
      "transformer.h.11.ln_1.weight: torch.Size([768])\n",
      "transformer.h.11.ln_1.bias: torch.Size([768])\n",
      "transformer.h.11.attn.c_attn.weight: torch.Size([768, 2304])\n",
      "transformer.h.11.attn.c_attn.bias: torch.Size([2304])\n",
      "transformer.h.11.attn.c_proj.weight: torch.Size([768, 768])\n",
      "transformer.h.11.attn.c_proj.bias: torch.Size([768])\n",
      "transformer.h.11.ln_2.weight: torch.Size([768])\n",
      "transformer.h.11.ln_2.bias: torch.Size([768])\n",
      "transformer.h.11.mlp.c_fc.weight: torch.Size([768, 3072])\n",
      "transformer.h.11.mlp.c_fc.bias: torch.Size([3072])\n",
      "transformer.h.11.mlp.c_proj.weight: torch.Size([3072, 768])\n",
      "transformer.h.11.mlp.c_proj.bias: torch.Size([768])\n",
      "transformer.ln_f.weight: torch.Size([768])\n",
      "transformer.ln_f.bias: torch.Size([768])\n",
      "score.weight: torch.Size([6, 768])\n"
     ]
    }
   ],
   "source": [
    "for n, p in main_model.named_parameters():\n",
    "    print(f\"{n}: {p.shape}\")\n"
   ]
  },
  {
   "cell_type": "code",
   "execution_count": 5,
   "metadata": {},
   "outputs": [],
   "source": [
    "def pass_text_to_model(inputs, model):\n",
    "\n",
    "    ## collect prob vectors\n",
    "    with torch.no_grad():\n",
    "        logits = model(**inputs).logits\n",
    "    softmax_probs = sm(logits)\n",
    "    return softmax_probs\n",
    "\n",
    "def token_analysis(text_1, text_2):\n",
    "    inputs_1 = tokenizer(text_1, return_tensors = 'pt')\n",
    "    inputs_2 = tokenizer(text_2, return_tensors = 'pt')\n",
    "\n",
    "    probability_vector_1 = pass_text_to_model(inputs_1, main_model)\n",
    "    probability_vector_2 = pass_text_to_model(inputs_2, main_model)\n",
    "\n",
    "    print(probability_vector_1, f\"Label = {np.argmax(probability_vector_1.tolist()[0])}\")\n",
    "    print(probability_vector_2, f\"Label = {np.argmax(probability_vector_2.tolist()[0])}\")"
   ]
  },
  {
   "cell_type": "markdown",
   "metadata": {},
   "source": [
    "## Flipping Gender"
   ]
  },
  {
   "cell_type": "code",
   "execution_count": 6,
   "metadata": {},
   "outputs": [
    {
     "name": "stdout",
     "output_type": "stream",
     "text": [
      "tensor([[3.2963e-04, 5.2088e-01, 4.7775e-01, 4.5614e-04, 3.4623e-04, 2.3097e-04]]) Label = 1\n",
      "tensor([[7.6754e-07, 1.0000e+00, 1.2015e-06, 9.3420e-07, 5.3941e-07, 1.3400e-08]]) Label = 1\n",
      "tensor([[1.0000e+00, 1.1355e-06, 3.4172e-07, 5.6469e-07, 4.2074e-07, 2.7909e-07]]) Label = 0\n",
      "tensor([[1.0000e+00, 1.1330e-06, 3.4841e-07, 5.7485e-07, 4.2025e-07, 2.7389e-07]]) Label = 0\n",
      "tensor([[5.0603e-08, 1.0684e-06, 2.3182e-06, 4.3599e-07, 1.1583e-05, 9.9998e-01]]) Label = 5\n",
      "tensor([[1.3948e-06, 7.2539e-01, 1.1019e-06, 4.5965e-06, 1.3785e-06, 2.7460e-01]]) Label = 1\n"
     ]
    },
    {
     "name": "stderr",
     "output_type": "stream",
     "text": [
      "/opt/homebrew/anaconda3/envs/CS6120/lib/python3.10/site-packages/torch/nn/modules/module.py:1736: UserWarning: Implicit dimension choice for softmax has been deprecated. Change the call to include dim=X as an argument.\n",
      "  return self._call_impl(*args, **kwargs)\n"
     ]
    }
   ],
   "source": [
    "text_1 = \"i did enjoy feeling like i could just relax with my sweet little bundle amp drift into slumber\" \n",
    "text_2 = \"i did enjoy feeling like i could just relax with my pleasant small bundle amp drift into slumber\"\n",
    "\n",
    "token_analysis(text_1, text_2)\n",
    "\n",
    "text_1 = \"i dont want to do those things when i feel crappy\" \n",
    "text_2 = \"i dont desire to do those things when i feel crappy\"\n",
    "\n",
    "token_analysis(text_1, text_2)\n",
    "\n",
    "text_1 = \"i feel like i am all out of funny\"\n",
    "text_2 = \"i feel like i am all out of hilarious\"\n",
    "\n",
    "token_analysis(text_1, text_2)"
   ]
  },
  {
   "cell_type": "markdown",
   "metadata": {},
   "source": [
    "## Try your own examples!"
   ]
  },
  {
   "cell_type": "code",
   "execution_count": null,
   "metadata": {},
   "outputs": [],
   "source": [
    "# Try your own text!\n",
    "\n",
    "text1 = 'Your text here'\n",
    "text2 = 'Your text here'\n",
    "token_analysis(text_1, text_2)"
   ]
  },
  {
   "cell_type": "code",
   "execution_count": null,
   "metadata": {},
   "outputs": [],
   "source": []
  }
 ],
 "metadata": {
  "kernelspec": {
   "display_name": "CS6120",
   "language": "python",
   "name": "python3"
  },
  "language_info": {
   "codemirror_mode": {
    "name": "ipython",
    "version": 3
   },
   "file_extension": ".py",
   "mimetype": "text/x-python",
   "name": "python",
   "nbconvert_exporter": "python",
   "pygments_lexer": "ipython3",
   "version": "3.10.15"
  }
 },
 "nbformat": 4,
 "nbformat_minor": 2
}
